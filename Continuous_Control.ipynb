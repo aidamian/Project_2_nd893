{
 "cells": [
  {
   "cell_type": "markdown",
   "metadata": {},
   "source": [
    "# Continuous Control\n",
    "\n",
    "---\n",
    "\n",
    "You are welcome to use this coding environment to train your agent for the project.  Follow the instructions below to get started!\n",
    "\n",
    "### 1. Start the Environment\n",
    "\n",
    "Run the next code cell to install a few packages.  This line will take a few minutes to run!"
   ]
  },
  {
   "cell_type": "code",
   "execution_count": 1,
   "metadata": {
    "scrolled": false
   },
   "outputs": [
    {
     "name": "stdout",
     "output_type": "stream",
     "text": [
      "\u001b[31mtensorflow 1.7.1 has requirement numpy>=1.13.3, but you'll have numpy 1.12.1 which is incompatible.\u001b[0m\r\n",
      "\u001b[31mipython 6.5.0 has requirement prompt-toolkit<2.0.0,>=1.0.15, but you'll have prompt-toolkit 2.0.9 which is incompatible.\u001b[0m\r\n"
     ]
    }
   ],
   "source": [
    "!pip -q install ./python"
   ]
  },
  {
   "cell_type": "markdown",
   "metadata": {},
   "source": [
    "The environments corresponding to both versions of the environment are already saved in the Workspace and can be accessed at the file paths provided below.  \n",
    "\n",
    "Please select one of the two options below for loading the environment."
   ]
  },
  {
   "cell_type": "code",
   "execution_count": 2,
   "metadata": {
    "scrolled": false
   },
   "outputs": [
    {
     "name": "stderr",
     "output_type": "stream",
     "text": [
      "INFO:unityagents:\n",
      "'Academy' started successfully!\n",
      "Unity Academy name: Academy\n",
      "        Number of Brains: 1\n",
      "        Number of External Brains : 1\n",
      "        Lesson number : 0\n",
      "        Reset Parameters :\n",
      "\t\tgoal_speed -> 1.0\n",
      "\t\tgoal_size -> 5.0\n",
      "Unity brain name: ReacherBrain\n",
      "        Number of Visual Observations (per agent): 0\n",
      "        Vector Observation space type: continuous\n",
      "        Vector Observation space size (per agent): 33\n",
      "        Number of stacked Vector Observation: 1\n",
      "        Vector Action space type: continuous\n",
      "        Vector Action space size (per agent): 4\n",
      "        Vector Action descriptions: , , , \n"
     ]
    }
   ],
   "source": [
    "from unityagents import UnityEnvironment\n",
    "import numpy as np\n",
    "\n",
    "# select this option to load version 1 (with a single agent) of the environment\n",
    "env = UnityEnvironment(file_name='/data/Reacher_One_Linux_NoVis/Reacher_One_Linux_NoVis.x86_64')\n",
    "\n",
    "# select this option to load version 2 (with 20 agents) of the environment\n",
    "# env = UnityEnvironment(file_name='/data/Reacher_Linux_NoVis/Reacher.x86_64')\n",
    "\n"
   ]
  },
  {
   "cell_type": "markdown",
   "metadata": {},
   "source": [
    "Environments contain **_brains_** which are responsible for deciding the actions of their associated agents. Here we check for the first brain available, and set it as the default brain we will be controlling from Python."
   ]
  },
  {
   "cell_type": "code",
   "execution_count": 3,
   "metadata": {
    "scrolled": false
   },
   "outputs": [],
   "source": [
    "# get the default brain\n",
    "brain_name = env.brain_names[0]\n",
    "brain = env.brains[brain_name]"
   ]
  },
  {
   "cell_type": "markdown",
   "metadata": {},
   "source": [
    "### 2. Examine the State and Action Spaces\n",
    "\n",
    "Run the code cell below to print some information about the environment."
   ]
  },
  {
   "cell_type": "code",
   "execution_count": 4,
   "metadata": {
    "scrolled": false
   },
   "outputs": [
    {
     "name": "stdout",
     "output_type": "stream",
     "text": [
      "Number of agents: 1\n",
      "Size of each action: 4\n",
      "There are 1 agents. Each observes a state with length: 33\n",
      "The state for the first agent looks like: [  0.00000000e+00  -4.00000000e+00   0.00000000e+00   1.00000000e+00\n",
      "  -0.00000000e+00  -0.00000000e+00  -4.37113883e-08   0.00000000e+00\n",
      "   0.00000000e+00   0.00000000e+00   0.00000000e+00   0.00000000e+00\n",
      "   0.00000000e+00   0.00000000e+00  -1.00000000e+01   0.00000000e+00\n",
      "   1.00000000e+00  -0.00000000e+00  -0.00000000e+00  -4.37113883e-08\n",
      "   0.00000000e+00   0.00000000e+00   0.00000000e+00   0.00000000e+00\n",
      "   0.00000000e+00   0.00000000e+00   5.75471878e+00  -1.00000000e+00\n",
      "   5.55726671e+00   0.00000000e+00   1.00000000e+00   0.00000000e+00\n",
      "  -1.68164849e-01]\n"
     ]
    }
   ],
   "source": [
    "# reset the environment\n",
    "env_info = env.reset(train_mode=True)[brain_name]\n",
    "\n",
    "# number of agents\n",
    "num_agents = len(env_info.agents)\n",
    "print('Number of agents:', num_agents)\n",
    "\n",
    "# size of each action\n",
    "_action_size = brain.vector_action_space_size\n",
    "print('Size of each action:', _action_size)\n",
    "\n",
    "# examine the state space \n",
    "states = env_info.vector_observations\n",
    "_state_size = states.shape[1]\n",
    "print('There are {} agents. Each observes a state with length: {}'.format(states.shape[0], _state_size))\n",
    "print('The state for the first agent looks like:', states[0])"
   ]
  },
  {
   "cell_type": "markdown",
   "metadata": {},
   "source": [
    "### 3. Take Random Actions in the Environment\n",
    "\n",
    "In the next code cell, you will learn how to use the Python API to control the agent and receive feedback from the environment.\n",
    "\n",
    "Note that **in this coding environment, you will not be able to watch the agents while they are training**, and you should set `train_mode=True` to restart the environment."
   ]
  },
  {
   "cell_type": "code",
   "execution_count": 5,
   "metadata": {
    "scrolled": false
   },
   "outputs": [
    {
     "name": "stdout",
     "output_type": "stream",
     "text": [
      "Total score (averaged over agents) this episode: 0.0\n",
      " actions: [[-1.          1.         -0.30612727 -1.        ]] \n",
      " next_states: [[  0.00000000e+00  -4.00000000e+00   0.00000000e+00   1.00000000e+00\n",
      "   -0.00000000e+00  -0.00000000e+00  -4.37113883e-08   0.00000000e+00\n",
      "    0.00000000e+00   0.00000000e+00   0.00000000e+00   0.00000000e+00\n",
      "    0.00000000e+00   0.00000000e+00  -1.00000000e+01   0.00000000e+00\n",
      "    1.00000000e+00  -0.00000000e+00  -0.00000000e+00  -4.37113883e-08\n",
      "    0.00000000e+00   0.00000000e+00   0.00000000e+00   0.00000000e+00\n",
      "    0.00000000e+00   0.00000000e+00   7.90150642e+00  -1.00000000e+00\n",
      "    1.25147498e+00   0.00000000e+00   1.00000000e+00   0.00000000e+00\n",
      "   -2.99753308e-01]] \n",
      " rewards: [0.0] \n",
      " dones:[True]\n"
     ]
    }
   ],
   "source": [
    "\n",
    "env_info = env.reset(train_mode=True)[brain_name]      # reset the environment    \n",
    "states = env_info.vector_observations                  # get the current state (for each agent)\n",
    "scores = np.zeros(num_agents)                          # initialize the score (for each agent)\n",
    "while True:\n",
    "    actions = np.random.randn(num_agents, _action_size) # select an action (for each agent)\n",
    "    actions = np.clip(actions, -1, 1)                  # all actions between -1 and 1\n",
    "    env_info = env.step(actions)[brain_name]           # send all actions to tne environment\n",
    "    next_states = env_info.vector_observations         # get next state (for each agent)\n",
    "    rewards = env_info.rewards                         # get reward (for each agent)\n",
    "    dones = env_info.local_done                        # see if episode finished\n",
    "    scores += env_info.rewards                         # update the score (for each agent)\n",
    "    states = next_states                               # roll over states to next time step\n",
    "    if np.any(dones):                                  # exit loop if episode finished\n",
    "        break\n",
    "print('Total score (averaged over agents) this episode: {}'.format(np.mean(scores)))\n",
    "print(\" actions: {} \\n next_states: {} \\n rewards: {} \\n dones:{}\".format(actions, next_states, rewards,dones))\n",
    "\n",
    "def sample_action():\n",
    "    actions = np.random.randn(num_agents, _action_size) # select an action (for each agent)\n",
    "    actions = np.clip(actions, -1, 1)   \n",
    "    return actions"
   ]
  },
  {
   "cell_type": "markdown",
   "metadata": {},
   "source": [
    "When finished, you can close the environment."
   ]
  },
  {
   "cell_type": "code",
   "execution_count": 6,
   "metadata": {
    "scrolled": false
   },
   "outputs": [],
   "source": [
    "#env.close()"
   ]
  },
  {
   "cell_type": "markdown",
   "metadata": {},
   "source": [
    "### 4. It's Your Turn!\n",
    "\n",
    "Now it's your turn to train your own agent to solve the environment!  A few **important notes**:\n",
    "- When training the environment, set `train_mode=True`, so that the line for resetting the environment looks like the following:\n",
    "```python\n",
    "env_info = env.reset(train_mode=True)[brain_name]\n",
    "```\n",
    "- To structure your work, you're welcome to work directly in this Jupyter notebook, or you might like to start over with a new file!  You can see the list of files in the workspace by clicking on **_Jupyter_** in the top left corner of the notebook.\n",
    "- In this coding environment, you will not be able to watch the agents while they are training.  However, **_after training the agents_**, you can download the saved model weights to watch the agents on your own machine! "
   ]
  },
  {
   "cell_type": "markdown",
   "metadata": {},
   "source": [
    "## 5. The Project\n",
    "\n",
    "#### 5.1 The tools"
   ]
  },
  {
   "cell_type": "code",
   "execution_count": 7,
   "metadata": {
    "scrolled": false
   },
   "outputs": [],
   "source": [
    "from collections import namedtuple, deque\n",
    "import random\n",
    "\n",
    "class ReplayBuffer:\n",
    "    \"\"\"Fixed-size buffer to store experience tuples.\"\"\"\n",
    "\n",
    "    def __init__(self, action_size, buffer_size, batch_size, seed, dev):\n",
    "        \"\"\"Initialize a ReplayBuffer object.\n",
    "        Params\n",
    "        ======\n",
    "            buffer_size (int): maximum size of buffer\n",
    "            batch_size (int): size of each training batch\n",
    "        \"\"\"\n",
    "        self.dev = dev\n",
    "        self.action_size = action_size\n",
    "        self.memory = deque(maxlen=buffer_size)  # internal memory (deque)\n",
    "        self.batch_size = batch_size\n",
    "        self.experience = namedtuple(\"Experience\", field_names=[\"state\", \"action\", \"reward\", \"next_state\", \"done\"])\n",
    "        self.seed = random.seed(seed)\n",
    "    \n",
    "    def add(self, state, action, reward, next_state, done):\n",
    "        \"\"\"Add a new experience to memory.\"\"\"\n",
    "        e = self.experience(state, action, reward, next_state, done)\n",
    "        self.memory.append(e)\n",
    "    \n",
    "    def sample(self):\n",
    "        \"\"\"Randomly sample a batch of experiences from memory.\"\"\"\n",
    "        experiences = random.sample(self.memory, k=self.batch_size)\n",
    "\n",
    "        states = torch.from_numpy(np.vstack([e.state for e in experiences if e is not None])).float().to(self.dev)\n",
    "        actions = torch.from_numpy(np.vstack([e.action for e in experiences if e is not None])).float().to(self.dev)\n",
    "        rewards = torch.from_numpy(np.vstack([e.reward for e in experiences if e is not None])).float().to(self.dev)\n",
    "        next_states = torch.from_numpy(np.vstack([e.next_state for e in experiences if e is not None])).float().to(self.dev)\n",
    "        dones = torch.from_numpy(np.vstack([e.done for e in experiences if e is not None]).astype(np.uint8)).float().to(self.dev)\n",
    "\n",
    "        return (states, actions, rewards, next_states, dones)\n",
    "\n",
    "    def __len__(self):\n",
    "        \"\"\"Return the current size of internal memory.\"\"\"\n",
    "        return len(self.memory)\n",
    "    "
   ]
  },
  {
   "cell_type": "markdown",
   "metadata": {},
   "source": [
    "#### 5.2 The brains"
   ]
  },
  {
   "cell_type": "code",
   "execution_count": 8,
   "metadata": {
    "scrolled": false
   },
   "outputs": [
    {
     "name": "stdout",
     "output_type": "stream",
     "text": [
      "Actor DAG:\n",
      "Actor(\n",
      "  (layers): ModuleList(\n",
      "    (0): Linear(in_features=33, out_features=400, bias=True)\n",
      "    (1): ReLU()\n",
      "    (2): Linear(in_features=400, out_features=300, bias=True)\n",
      "    (3): ReLU()\n",
      "  )\n",
      "  (final_linear): Linear(in_features=300, out_features=4, bias=True)\n",
      "  (final_activation): Tanh()\n",
      ")\n",
      "Critic DAG:\n",
      "Critic(\n",
      "  (state_layers): ModuleList(\n",
      "    (0): Linear(in_features=33, out_features=400, bias=True)\n",
      "    (1): LeakyReLU(negative_slope=0.01)\n",
      "    (2): Linear(in_features=400, out_features=300, bias=True)\n",
      "    (3): LeakyReLU(negative_slope=0.01)\n",
      "  )\n",
      "  (act_layers): ModuleList(\n",
      "    (0): Linear(in_features=4, out_features=200, bias=True)\n",
      "    (1): LeakyReLU(negative_slope=0.01)\n",
      "  )\n",
      "  (final_layers): ModuleList(\n",
      "    (0): Linear(in_features=500, out_features=400, bias=True)\n",
      "    (1): LeakyReLU(negative_slope=0.01)\n",
      "    (2): Linear(in_features=400, out_features=300, bias=True)\n",
      "    (3): LeakyReLU(negative_slope=0.01)\n",
      "  )\n",
      "  (final_linear): Linear(in_features=300, out_features=1, bias=True)\n",
      ")\n",
      "-0.00299677 0.0029949 9.34013e-05\n"
     ]
    }
   ],
   "source": [
    "import torch.nn as nn\n",
    "import torch\n",
    "\n",
    "class Actor(nn.Module):\n",
    "    def __init__(self, input_size, output_size, layers=[400, 300]):\n",
    "        super(Actor, self).__init__()\n",
    "        self.layers = nn.ModuleList()\n",
    "        pre_units = input_size\n",
    "        for L in layers:\n",
    "            self.layers.append(nn.Linear(pre_units, L))\n",
    "            self.layers.append(nn.ReLU())\n",
    "            pre_units = L\n",
    "        self.final_linear = nn.Linear(pre_units, output_size)\n",
    "        self.final_activation = nn.Tanh()\n",
    "        self.reset_parameters()\n",
    "        return\n",
    "        \n",
    "        \n",
    "    def reset_parameters(self):            \n",
    "        for layer in self.layers:\n",
    "            if hasattr(layer,\"weight\"):\n",
    "                nn.init.xavier_uniform_(layer.weight)\n",
    "            \n",
    "        nn.init.uniform_(self.final_linear.weight, -0.003, 0.003)   \n",
    "        return\n",
    "    \n",
    "        \n",
    "    def forward(self, x):\n",
    "        for layer in self.layers:\n",
    "            x = layer(x)\n",
    "        x = self.final_linear(x)\n",
    "        x = self.final_activation(x)\n",
    "        return x\n",
    "    \n",
    "\n",
    "class Critic(nn.Module):\n",
    "    def __init__(self, state_size, act_size, output_size=1, \n",
    "                 act_layers=[200], \n",
    "                 state_layers=[400, 300], \n",
    "                 final_layers=[400, 300]):\n",
    "        super(Critic, self).__init__()\n",
    "        self.state_layers = nn.ModuleList()\n",
    "        self.act_layers = nn.ModuleList()\n",
    "        self.final_layers = nn.ModuleList()\n",
    "\n",
    "        pre_units = state_size\n",
    "        for L in state_layers:\n",
    "            self.state_layers.append(nn.Linear(pre_units, L))\n",
    "            self.state_layers.append(nn.LeakyReLU())\n",
    "            pre_units = L\n",
    "        final_state_column_size = pre_units\n",
    "            \n",
    "        pre_units = act_size\n",
    "        for L in act_layers:\n",
    "            self.act_layers.append(nn.Linear(pre_units, L))\n",
    "            self.act_layers.append(nn.LeakyReLU())\n",
    "            pre_units = L\n",
    "        final_action_column_size = pre_units\n",
    "            \n",
    "        pre_units = final_state_column_size + final_action_column_size\n",
    "        for L in final_layers:\n",
    "            self.final_layers.append(nn.Linear(pre_units, L))\n",
    "            self.final_layers.append(nn.LeakyReLU())\n",
    "            pre_units = L        \n",
    "            \n",
    "        self.final_linear = nn.Linear(pre_units, output_size)\n",
    "        self.reset_parameters()\n",
    "        return\n",
    "    \n",
    "        \n",
    "    def reset_parameters(self):\n",
    "        for layer in self.state_layers:\n",
    "            if hasattr(layer,\"weight\"):\n",
    "                nn.init.xavier_uniform_(layer.weight)\n",
    "            \n",
    "        for layer in self.act_layers:\n",
    "            if hasattr(layer,\"weight\"):\n",
    "                nn.init.xavier_uniform_(layer.weight)\n",
    "            \n",
    "        for layer in self.final_layers:\n",
    "            if hasattr(layer,\"weight\"):\n",
    "                nn.init.xavier_uniform_(layer.weight)\n",
    "            \n",
    "        nn.init.uniform_(self.final_linear.weight, -0.003, 0.003)\n",
    "        return\n",
    "        \n",
    "        \n",
    "    def forward(self, state, action):\n",
    "        x_state = state\n",
    "        for layer in self.state_layers:\n",
    "            x_state = layer(x_state)\n",
    "            \n",
    "        x_act = action\n",
    "        for layer in self.act_layers:\n",
    "            x_act = layer(x_act)\n",
    "        \n",
    "        x = torch.cat((x_state, x_act), dim=1)\n",
    "        \n",
    "        for layer in self.final_layers:\n",
    "            x = layer(x)    \n",
    "        \n",
    "        x = self.final_linear(x)\n",
    "        return x\n",
    "\n",
    "act_test = Actor(input_size=_state_size, output_size=_action_size)\n",
    "cri_test = Critic(state_size=_state_size, act_size=_action_size)\n",
    "print(\"Actor DAG:\\n{}\".format(act_test))\n",
    "print(\"Critic DAG:\\n{}\".format(cri_test))\n",
    "\n",
    "act_f_layer = act_test.final_linear.weight.detach().numpy()\n",
    "print(act_f_layer.min(), act_f_layer.max(), act_f_layer.mean())\n",
    "\n",
    "    "
   ]
  },
  {
   "cell_type": "markdown",
   "metadata": {},
   "source": [
    "#### 5.3 The agent"
   ]
  },
  {
   "cell_type": "code",
   "execution_count": 10,
   "metadata": {
    "scrolled": false
   },
   "outputs": [],
   "source": [
    "\n",
    "import torch.optim as optim\n",
    "import torch.nn.functional as F\n",
    "\n",
    "class Agent():\n",
    "    \"\"\"\n",
    "    Implements DDPG TD3 approach with a few tricks\n",
    "    \"\"\"\n",
    "    def __init__(self, a_size, s_size, dev, \n",
    "                 GAMMA=0.995, \n",
    "                 TAU=5e-3, \n",
    "                 policy_noise=0.2, \n",
    "                 exploration_noise=0.1, \n",
    "                 noise_clip=0.5,\n",
    "                 LR_CRITIC=1e-2, \n",
    "                 LR_ACTOR=1e-2, \n",
    "                 WEIGHT_DECAY=1e-5, \n",
    "                 policy_freq=2, \n",
    "                 random_seed=1234,\n",
    "                 BUFFER_SIZE=int(1e6), \n",
    "                 BATCH_SIZE=128, \n",
    "                 RANDOM_WARM_UP=1e4):\n",
    "        self.a_size = a_size\n",
    "        self.s_size = s_size\n",
    "        self.dev = dev\n",
    "        self.device = dev\n",
    "        self.GAMMA = GAMMA\n",
    "        self.TAU = 0.05\n",
    "        self.RANDOM_WARM_UP = RANDOM_WARM_UP\n",
    "        self.noise_clip = noise_clip\n",
    "        self.exploration_noise = exploration_noise\n",
    "        self.policy_noise = policy_noise\n",
    "        self.policy_freq = policy_freq\n",
    "        self.BATCH_SIZE = BATCH_SIZE\n",
    "        self.actor_online = Actor(input_size=self.s_size, output_size=self.a_size).to(self.dev)\n",
    "        self.actor_target = Actor(input_size=self.s_size, output_size=self.a_size).to(self.dev)\n",
    "        self.actor_target.load_state_dict(self.actor_online.state_dict())\n",
    "        self.actor_optimizer = optim.Adam(self.actor_online.parameters(), lr=LR_ACTOR)\n",
    "        \n",
    "        self.critic_online_1 = Critic(state_size=self.s_size, act_size=self.a_size).to(self.dev)\n",
    "        self.critic_target_1 = Critic(state_size=self.s_size, act_size=self.a_size).to(self.dev)\n",
    "        self.critic_target_1.load_state_dict(self.critic_online_1.state_dict())\n",
    "        self.critic_1_optimizer = optim.Adam(self.critic_online_1.parameters(), lr=LR_CRITIC, weight_decay=WEIGHT_DECAY)\n",
    "        \n",
    "        self.critic_online_2 = Critic(state_size=self.s_size, act_size=self.a_size).to(self.dev)\n",
    "        self.critic_target_2 = Critic(state_size=self.s_size, act_size=self.a_size).to(self.dev)\n",
    "        self.critic_target_2.load_state_dict(self.critic_online_2.state_dict())\n",
    "        self.critic_2_optimizer = optim.Adam(self.critic_online_2.parameters(), lr=LR_CRITIC, weight_decay=WEIGHT_DECAY)\n",
    "        \n",
    "        self.memory = ReplayBuffer(self.a_size, BUFFER_SIZE, BATCH_SIZE, random_seed, dev=self.dev)\n",
    "        self.step_counter = 0\n",
    "        self.steps_to_train_counter = 0\n",
    "        self.skip_update_timer = 0\n",
    "        self.train_iters = 0\n",
    "        self.actor_updates = 0\n",
    "        self.critic_1_losses = deque(maxlen=100)\n",
    "        self.critic_2_losses = deque(maxlen=100)\n",
    "        self.actor_losses = deque(maxlen=100)\n",
    "        return\n",
    "    \n",
    "\n",
    "    def step(self, state, action, reward, next_state, done, train_every_steps):\n",
    "        \"\"\"Save experience in replay memory. train if required\"\"\"\n",
    "        # Save experience / reward\n",
    "        self.step_counter += 1\n",
    "        self.memory.add(state, action, reward, next_state, done)\n",
    "        \n",
    "        if not self.is_warming_up():\n",
    "            if self.steps_to_train_counter > 0:\n",
    "                self.train(nr_iters=1)\n",
    "                self.steps_to_train_counter -= 1\n",
    "                self.skip_update_timer = 0\n",
    "            else:\n",
    "                self.skip_update_timer += 1\n",
    "\n",
    "            if self.skip_update_timer >= train_every_steps:\n",
    "                self.steps_to_train_counter = train_every_steps # // 2 # only half training\n",
    "                self.skip_update_timer = 0            \n",
    "        return\n",
    "\n",
    "\n",
    "    def train(self, nr_iters):\n",
    "        \"\"\" use random sample from buffer to learn \"\"\"\n",
    "        # Learn, if enough samples are available in memory\n",
    "        if len(self.memory) > self.RANDOM_WARM_UP:\n",
    "            for _ in range(nr_iters):\n",
    "                experiences = self.memory.sample()\n",
    "                self._train(experiences, self.GAMMA)    \n",
    "        return\n",
    "    \n",
    "    def is_warming_up(self):\n",
    "        return len(self.memory) < self.RANDOM_WARM_UP\n",
    "    \n",
    "    \n",
    "    def act(self, state, add_noise=False):\n",
    "        \"\"\"Returns actions for given state as per current policy.\"\"\"\n",
    "        state = torch.from_numpy(state).float().to(self.device)\n",
    "        self.actor_online.eval()\n",
    "        with torch.no_grad():\n",
    "            action = self.actor_online(state).cpu().data.numpy()\n",
    "        self.actor_online.train()\n",
    "        if add_noise:\n",
    "            # we are obviously in training so now check if the \"act\" was called before warmpup\n",
    "            assert not self.is_warming_up()\n",
    "            noise = np.random.normal(loc=0, scale=self.exploration_noise, size=action.shape)\n",
    "            action += noise\n",
    "        return np.clip(action, -1, 1)\n",
    "    \n",
    "    \n",
    "    def _train(self, experiences, gamma):\n",
    "        \"\"\"Update policy and value parameters using given batch of experience tuples.\n",
    "        Q_targets = r + γ * critic_target(next_state, actor_target(next_state))\n",
    "        where:\n",
    "            actor_target(state) -> action\n",
    "            critic_target(state, action) -> Q-value\n",
    "\n",
    "        Params\n",
    "        ======\n",
    "            experiences: tuple of (s, a, r, s', done) tuples \n",
    "            gamma (float): discount factor\n",
    "        \"\"\"\n",
    "        self.train_iters += 1\n",
    "        if self.train_iters == 1:\n",
    "            print(\"\\nFirst training iter at step {}\".format(self.step_counter))\n",
    "        states, actions, rewards, next_states, dones = experiences\n",
    "        actions_ = actions.cpu().numpy()\n",
    "    \n",
    "        actions_next = self.actor_target(next_states)\n",
    "        noise = torch.FloatTensor(actions_).data.normal_(0, self.policy_noise).to(self.device)\n",
    "        noise = torch.clamp(noise, -self.noise_clip, self.noise_clip)\n",
    "        actions_next += noise\n",
    "        actions_next = torch.clamp(actions_next, -1, 1)\n",
    "        \n",
    "        Q_targets_next_1 = self.critic_target_1(next_states, actions_next)\n",
    "        Q_targets_next_2 = self.critic_target_2(next_states, actions_next)\n",
    "        \n",
    "        Q_targets_next = torch.min(Q_targets_next_1, Q_targets_next_2)\n",
    "        \n",
    "        # Compute Q targets for current states (y_i)\n",
    "        Q_targets = rewards + (gamma * Q_targets_next * (1 - dones)).detach()\n",
    "\n",
    "        # Compute critic loss 1\n",
    "        Q_expected_1 = self.critic_online_1(states, actions)\n",
    "        critic_1_loss = F.mse_loss(Q_expected_1, Q_targets)\n",
    "        # Minimize the loss for critic 1\n",
    "        self.critic_1_optimizer.zero_grad()\n",
    "        critic_1_loss.backward()\n",
    "        torch.nn.utils.clip_grad_norm_(self.critic_online_1.parameters(), 1)\n",
    "        self.critic_1_optimizer.step()\n",
    "        self.np_loss_1 = critic_1_loss.detach().cpu().item()\n",
    "\n",
    "        \n",
    "        # Compute critic loss 2\n",
    "        Q_expected_2 = self.critic_online_2(states, actions)\n",
    "        critic_2_loss = F.mse_loss(Q_expected_2, Q_targets)\n",
    "        # Minimize the loss for critic 2\n",
    "        self.critic_2_optimizer.zero_grad()\n",
    "        critic_2_loss.backward()\n",
    "        torch.nn.utils.clip_grad_norm_(self.critic_online_2.parameters(), 1)\n",
    "        self.critic_2_optimizer.step()\n",
    "        self.np_loss_2 = critic_2_loss.detach().cpu().item()\n",
    "        \n",
    "        self.critic_1_losses.append(self.np_loss_1)\n",
    "        self.critic_2_losses.append(self.np_loss_2)\n",
    "        \n",
    "        if (self.train_iters % self.policy_freq) == 0:\n",
    "            actions_pred = self.actor_online(states)\n",
    "            actor_loss = -self.critic_online_1(states, actions_pred).mean()\n",
    "            self.actor_optimizer.zero_grad()\n",
    "            actor_loss.backward()\n",
    "            self.actor_optimizer.step()\n",
    "            self.np_loss_actor = actor_loss.detach().cpu().item()\n",
    "            \n",
    "            self.soft_update_actor()\n",
    "            self.soft_update_critics()\n",
    "            \n",
    "            self.actor_losses.append(self.np_loss_actor)\n",
    "            self.actor_updates += 1\n",
    "            \n",
    "        return\n",
    "\n",
    "    def save(self, label):\n",
    "        fn = 'actor_it_{:010}_{}.policy'.format(self.train_iters, label)\n",
    "        torch.save(self.actor_online.state_dict(), fn)\n",
    "        return\n",
    "\n",
    "    \n",
    "    def soft_update_actor(self):\n",
    "        self._soft_update(self.actor_online, self.actor_target, self.TAU)\n",
    "        return\n",
    "\n",
    "        \n",
    "    def soft_update_critics(self):\n",
    "        self._soft_update(self.critic_online_1, self.critic_target_1, self.TAU)\n",
    "        self._soft_update(self.critic_online_2, self.critic_target_2, self.TAU)\n",
    "        return\n",
    "        \n",
    "        \n",
    "    def _soft_update(self, local_model, target_model, tau):\n",
    "        \"\"\"Soft update model parameters.\n",
    "        θ_target = τ*θ_local + (1 - τ)*θ_target\n",
    "        Params\n",
    "        ======\n",
    "            local_model: PyTorch model (weights will be copied from)\n",
    "            target_model: PyTorch model (weights will be copied to)\n",
    "            tau (float): interpolation parameter \n",
    "        \"\"\"\n",
    "        for target_param, local_param in zip(target_model.parameters(), local_model.parameters()):\n",
    "            target_param.data.copy_(tau*local_param.data + (1.0-tau)*target_param.data)    \n",
    "        return\n",
    "    "
   ]
  },
  {
   "cell_type": "markdown",
   "metadata": {},
   "source": [
    "#### 5.4 The loop"
   ]
  },
  {
   "cell_type": "code",
   "execution_count": 11,
   "metadata": {
    "scrolled": false
   },
   "outputs": [
    {
     "name": "stdout",
     "output_type": "stream",
     "text": [
      "Starting training for 300 episodes...\n",
      "Episode    1  Score/Avg:  0.0/ 0.0  Steps: 1000  [μcL1/μcL2:      nan/     nan μaL:      nan]  t: 1.5s    "
     ]
    },
    {
     "name": "stderr",
     "output_type": "stream",
     "text": [
      "/opt/conda/lib/python3.6/site-packages/numpy/core/fromnumeric.py:2889: RuntimeWarning: Mean of empty slice.\n",
      "  out=out, **kwargs)\n",
      "/opt/conda/lib/python3.6/site-packages/numpy/core/_methods.py:80: RuntimeWarning: invalid value encountered in double_scalars\n",
      "  ret = ret.dtype.type(ret / rcount)\n"
     ]
    },
    {
     "name": "stdout",
     "output_type": "stream",
     "text": [
      "Episode    9  Score/Avg:  0.0/ 0.2  Steps: 1000  [μcL1/μcL2:      nan/     nan μaL:      nan]  t: 1.4s    \n",
      "First training iter at step 10010\n",
      "Episode   12  Score/Avg:  0.0/ 0.2  Steps: 1000  [μcL1/μcL2:  6.6e-06/ 6.6e-06 μaL:  7.1e-03]  t:41.1s    "
     ]
    },
    {
     "ename": "KeyboardInterrupt",
     "evalue": "",
     "output_type": "error",
     "traceback": [
      "\u001b[0;31m---------------------------------------------------------------------------\u001b[0m",
      "\u001b[0;31mKeyboardInterrupt\u001b[0m                         Traceback (most recent call last)",
      "\u001b[0;32m<ipython-input-11-4cac35caab8e>\u001b[0m in \u001b[0;36m<module>\u001b[0;34m()\u001b[0m\n\u001b[1;32m     64\u001b[0m     \u001b[0mdev\u001b[0m \u001b[0;34m=\u001b[0m \u001b[0mtorch\u001b[0m\u001b[0;34m.\u001b[0m\u001b[0mdevice\u001b[0m\u001b[0;34m(\u001b[0m\u001b[0;34m\"cuda:0\"\u001b[0m \u001b[0;32mif\u001b[0m \u001b[0mtorch\u001b[0m\u001b[0;34m.\u001b[0m\u001b[0mcuda\u001b[0m\u001b[0;34m.\u001b[0m\u001b[0mis_available\u001b[0m\u001b[0;34m(\u001b[0m\u001b[0;34m)\u001b[0m \u001b[0;32melse\u001b[0m \u001b[0;34m\"cpu\"\u001b[0m\u001b[0;34m)\u001b[0m\u001b[0;34m\u001b[0m\u001b[0m\n\u001b[1;32m     65\u001b[0m     \u001b[0magent\u001b[0m \u001b[0;34m=\u001b[0m \u001b[0mAgent\u001b[0m\u001b[0;34m(\u001b[0m\u001b[0ma_size\u001b[0m\u001b[0;34m=\u001b[0m\u001b[0m_action_size\u001b[0m\u001b[0;34m,\u001b[0m \u001b[0ms_size\u001b[0m\u001b[0;34m=\u001b[0m\u001b[0m_state_size\u001b[0m\u001b[0;34m,\u001b[0m \u001b[0mdev\u001b[0m\u001b[0;34m=\u001b[0m\u001b[0mdev\u001b[0m\u001b[0;34m)\u001b[0m\u001b[0;34m\u001b[0m\u001b[0m\n\u001b[0;32m---> 66\u001b[0;31m     \u001b[0mscores\u001b[0m \u001b[0;34m=\u001b[0m \u001b[0mTD3_single\u001b[0m\u001b[0;34m(\u001b[0m\u001b[0menv\u001b[0m\u001b[0;34m=\u001b[0m\u001b[0menv\u001b[0m\u001b[0;34m,\u001b[0m \u001b[0magent\u001b[0m\u001b[0;34m=\u001b[0m\u001b[0magent\u001b[0m\u001b[0;34m,\u001b[0m \u001b[0mtrain_every_steps\u001b[0m\u001b[0;34m=\u001b[0m\u001b[0mtrain_every_steps\u001b[0m\u001b[0;34m)\u001b[0m\u001b[0;34m\u001b[0m\u001b[0m\n\u001b[0m\u001b[1;32m     67\u001b[0m \u001b[0;34m\u001b[0m\u001b[0m\n\u001b[1;32m     68\u001b[0m     \u001b[0mfig\u001b[0m \u001b[0;34m=\u001b[0m \u001b[0mplt\u001b[0m\u001b[0;34m.\u001b[0m\u001b[0mfigure\u001b[0m\u001b[0;34m(\u001b[0m\u001b[0;34m)\u001b[0m\u001b[0;34m\u001b[0m\u001b[0m\n",
      "\u001b[0;32m<ipython-input-11-4cac35caab8e>\u001b[0m in \u001b[0;36mTD3_single\u001b[0;34m(env, agent, n_episodes, max_t, train_every_steps)\u001b[0m\n\u001b[1;32m     24\u001b[0m             \u001b[0mdones\u001b[0m \u001b[0;34m=\u001b[0m \u001b[0menv_info\u001b[0m\u001b[0;34m.\u001b[0m\u001b[0mlocal_done\u001b[0m                        \u001b[0;31m# see if episode finished\u001b[0m\u001b[0;34m\u001b[0m\u001b[0m\n\u001b[1;32m     25\u001b[0m             \u001b[0mnext_state\u001b[0m\u001b[0;34m,\u001b[0m \u001b[0mreward\u001b[0m\u001b[0;34m,\u001b[0m \u001b[0mdone\u001b[0m \u001b[0;34m=\u001b[0m \u001b[0mnext_states\u001b[0m\u001b[0;34m[\u001b[0m\u001b[0;36m0\u001b[0m\u001b[0;34m]\u001b[0m\u001b[0;34m,\u001b[0m \u001b[0mrewards\u001b[0m\u001b[0;34m[\u001b[0m\u001b[0;36m0\u001b[0m\u001b[0;34m]\u001b[0m\u001b[0;34m,\u001b[0m \u001b[0mdones\u001b[0m\u001b[0;34m[\u001b[0m\u001b[0;36m0\u001b[0m\u001b[0;34m]\u001b[0m\u001b[0;34m\u001b[0m\u001b[0m\n\u001b[0;32m---> 26\u001b[0;31m             \u001b[0magent\u001b[0m\u001b[0;34m.\u001b[0m\u001b[0mstep\u001b[0m\u001b[0;34m(\u001b[0m\u001b[0mstate\u001b[0m\u001b[0;34m,\u001b[0m \u001b[0maction\u001b[0m\u001b[0;34m,\u001b[0m \u001b[0mreward\u001b[0m\u001b[0;34m,\u001b[0m \u001b[0mnext_state\u001b[0m\u001b[0;34m,\u001b[0m \u001b[0mdone\u001b[0m\u001b[0;34m,\u001b[0m \u001b[0mtrain_every_steps\u001b[0m\u001b[0;34m=\u001b[0m\u001b[0mtrain_every_steps\u001b[0m\u001b[0;34m)\u001b[0m\u001b[0;34m\u001b[0m\u001b[0m\n\u001b[0m\u001b[1;32m     27\u001b[0m             \u001b[0mstate\u001b[0m \u001b[0;34m=\u001b[0m \u001b[0mnext_state\u001b[0m\u001b[0;34m\u001b[0m\u001b[0m\n\u001b[1;32m     28\u001b[0m             \u001b[0mscore\u001b[0m \u001b[0;34m+=\u001b[0m \u001b[0mreward\u001b[0m\u001b[0;34m\u001b[0m\u001b[0m\n",
      "\u001b[0;32m<ipython-input-10-c74e2347570d>\u001b[0m in \u001b[0;36mstep\u001b[0;34m(self, state, action, reward, next_state, done, train_every_steps)\u001b[0m\n\u001b[1;32m     68\u001b[0m         \u001b[0;32mif\u001b[0m \u001b[0;32mnot\u001b[0m \u001b[0mself\u001b[0m\u001b[0;34m.\u001b[0m\u001b[0mis_warming_up\u001b[0m\u001b[0;34m(\u001b[0m\u001b[0;34m)\u001b[0m\u001b[0;34m:\u001b[0m\u001b[0;34m\u001b[0m\u001b[0m\n\u001b[1;32m     69\u001b[0m             \u001b[0;32mif\u001b[0m \u001b[0mself\u001b[0m\u001b[0;34m.\u001b[0m\u001b[0msteps_to_train_counter\u001b[0m \u001b[0;34m>\u001b[0m \u001b[0;36m0\u001b[0m\u001b[0;34m:\u001b[0m\u001b[0;34m\u001b[0m\u001b[0m\n\u001b[0;32m---> 70\u001b[0;31m                 \u001b[0mself\u001b[0m\u001b[0;34m.\u001b[0m\u001b[0mtrain\u001b[0m\u001b[0;34m(\u001b[0m\u001b[0mnr_iters\u001b[0m\u001b[0;34m=\u001b[0m\u001b[0;36m1\u001b[0m\u001b[0;34m)\u001b[0m\u001b[0;34m\u001b[0m\u001b[0m\n\u001b[0m\u001b[1;32m     71\u001b[0m                 \u001b[0mself\u001b[0m\u001b[0;34m.\u001b[0m\u001b[0msteps_to_train_counter\u001b[0m \u001b[0;34m-=\u001b[0m \u001b[0;36m1\u001b[0m\u001b[0;34m\u001b[0m\u001b[0m\n\u001b[1;32m     72\u001b[0m                 \u001b[0mself\u001b[0m\u001b[0;34m.\u001b[0m\u001b[0mskip_update_timer\u001b[0m \u001b[0;34m=\u001b[0m \u001b[0;36m0\u001b[0m\u001b[0;34m\u001b[0m\u001b[0m\n",
      "\u001b[0;32m<ipython-input-10-c74e2347570d>\u001b[0m in \u001b[0;36mtrain\u001b[0;34m(self, nr_iters)\u001b[0m\n\u001b[1;32m     86\u001b[0m             \u001b[0;32mfor\u001b[0m \u001b[0m_\u001b[0m \u001b[0;32min\u001b[0m \u001b[0mrange\u001b[0m\u001b[0;34m(\u001b[0m\u001b[0mnr_iters\u001b[0m\u001b[0;34m)\u001b[0m\u001b[0;34m:\u001b[0m\u001b[0;34m\u001b[0m\u001b[0m\n\u001b[1;32m     87\u001b[0m                 \u001b[0mexperiences\u001b[0m \u001b[0;34m=\u001b[0m \u001b[0mself\u001b[0m\u001b[0;34m.\u001b[0m\u001b[0mmemory\u001b[0m\u001b[0;34m.\u001b[0m\u001b[0msample\u001b[0m\u001b[0;34m(\u001b[0m\u001b[0;34m)\u001b[0m\u001b[0;34m\u001b[0m\u001b[0m\n\u001b[0;32m---> 88\u001b[0;31m                 \u001b[0mself\u001b[0m\u001b[0;34m.\u001b[0m\u001b[0m_train\u001b[0m\u001b[0;34m(\u001b[0m\u001b[0mexperiences\u001b[0m\u001b[0;34m,\u001b[0m \u001b[0mself\u001b[0m\u001b[0;34m.\u001b[0m\u001b[0mGAMMA\u001b[0m\u001b[0;34m)\u001b[0m\u001b[0;34m\u001b[0m\u001b[0m\n\u001b[0m\u001b[1;32m     89\u001b[0m         \u001b[0;32mreturn\u001b[0m\u001b[0;34m\u001b[0m\u001b[0m\n\u001b[1;32m     90\u001b[0m \u001b[0;34m\u001b[0m\u001b[0m\n",
      "\u001b[0;32m<ipython-input-10-c74e2347570d>\u001b[0m in \u001b[0;36m_train\u001b[0;34m(self, experiences, gamma)\u001b[0m\n\u001b[1;32m    147\u001b[0m         \u001b[0mcritic_1_loss\u001b[0m\u001b[0;34m.\u001b[0m\u001b[0mbackward\u001b[0m\u001b[0;34m(\u001b[0m\u001b[0;34m)\u001b[0m\u001b[0;34m\u001b[0m\u001b[0m\n\u001b[1;32m    148\u001b[0m         \u001b[0mtorch\u001b[0m\u001b[0;34m.\u001b[0m\u001b[0mnn\u001b[0m\u001b[0;34m.\u001b[0m\u001b[0mutils\u001b[0m\u001b[0;34m.\u001b[0m\u001b[0mclip_grad_norm_\u001b[0m\u001b[0;34m(\u001b[0m\u001b[0mself\u001b[0m\u001b[0;34m.\u001b[0m\u001b[0mcritic_online_1\u001b[0m\u001b[0;34m.\u001b[0m\u001b[0mparameters\u001b[0m\u001b[0;34m(\u001b[0m\u001b[0;34m)\u001b[0m\u001b[0;34m,\u001b[0m \u001b[0;36m1\u001b[0m\u001b[0;34m)\u001b[0m\u001b[0;34m\u001b[0m\u001b[0m\n\u001b[0;32m--> 149\u001b[0;31m         \u001b[0mself\u001b[0m\u001b[0;34m.\u001b[0m\u001b[0mcritic_1_optimizer\u001b[0m\u001b[0;34m.\u001b[0m\u001b[0mstep\u001b[0m\u001b[0;34m(\u001b[0m\u001b[0;34m)\u001b[0m\u001b[0;34m\u001b[0m\u001b[0m\n\u001b[0m\u001b[1;32m    150\u001b[0m         \u001b[0mself\u001b[0m\u001b[0;34m.\u001b[0m\u001b[0mnp_loss_1\u001b[0m \u001b[0;34m=\u001b[0m \u001b[0mcritic_1_loss\u001b[0m\u001b[0;34m.\u001b[0m\u001b[0mdetach\u001b[0m\u001b[0;34m(\u001b[0m\u001b[0;34m)\u001b[0m\u001b[0;34m.\u001b[0m\u001b[0mcpu\u001b[0m\u001b[0;34m(\u001b[0m\u001b[0;34m)\u001b[0m\u001b[0;34m.\u001b[0m\u001b[0mitem\u001b[0m\u001b[0;34m(\u001b[0m\u001b[0;34m)\u001b[0m\u001b[0;34m\u001b[0m\u001b[0m\n\u001b[1;32m    151\u001b[0m \u001b[0;34m\u001b[0m\u001b[0m\n",
      "\u001b[0;32m/opt/conda/lib/python3.6/site-packages/torch/optim/adam.py\u001b[0m in \u001b[0;36mstep\u001b[0;34m(self, closure)\u001b[0m\n\u001b[1;32m     91\u001b[0m                 \u001b[0;31m# Decay the first and second moment running average coefficient\u001b[0m\u001b[0;34m\u001b[0m\u001b[0;34m\u001b[0m\u001b[0m\n\u001b[1;32m     92\u001b[0m                 \u001b[0mexp_avg\u001b[0m\u001b[0;34m.\u001b[0m\u001b[0mmul_\u001b[0m\u001b[0;34m(\u001b[0m\u001b[0mbeta1\u001b[0m\u001b[0;34m)\u001b[0m\u001b[0;34m.\u001b[0m\u001b[0madd_\u001b[0m\u001b[0;34m(\u001b[0m\u001b[0;36m1\u001b[0m \u001b[0;34m-\u001b[0m \u001b[0mbeta1\u001b[0m\u001b[0;34m,\u001b[0m \u001b[0mgrad\u001b[0m\u001b[0;34m)\u001b[0m\u001b[0;34m\u001b[0m\u001b[0m\n\u001b[0;32m---> 93\u001b[0;31m                 \u001b[0mexp_avg_sq\u001b[0m\u001b[0;34m.\u001b[0m\u001b[0mmul_\u001b[0m\u001b[0;34m(\u001b[0m\u001b[0mbeta2\u001b[0m\u001b[0;34m)\u001b[0m\u001b[0;34m.\u001b[0m\u001b[0maddcmul_\u001b[0m\u001b[0;34m(\u001b[0m\u001b[0;36m1\u001b[0m \u001b[0;34m-\u001b[0m \u001b[0mbeta2\u001b[0m\u001b[0;34m,\u001b[0m \u001b[0mgrad\u001b[0m\u001b[0;34m,\u001b[0m \u001b[0mgrad\u001b[0m\u001b[0;34m)\u001b[0m\u001b[0;34m\u001b[0m\u001b[0m\n\u001b[0m\u001b[1;32m     94\u001b[0m                 \u001b[0;32mif\u001b[0m \u001b[0mamsgrad\u001b[0m\u001b[0;34m:\u001b[0m\u001b[0;34m\u001b[0m\u001b[0m\n\u001b[1;32m     95\u001b[0m                     \u001b[0;31m# Maintains the maximum of all 2nd moment running avg. till now\u001b[0m\u001b[0;34m\u001b[0m\u001b[0;34m\u001b[0m\u001b[0m\n",
      "\u001b[0;31mKeyboardInterrupt\u001b[0m: "
     ]
    }
   ],
   "source": [
    "import time\n",
    "import matplotlib.pyplot as plt\n",
    "\n",
    "def training_loop(env, agent, n_episodes=300, max_t=10000, train_every_steps=10):\n",
    "    print(\"Starting training for {} episodes...\".format(n_episodes))\n",
    "    scores_deque = deque(maxlen=100)\n",
    "    steps_deque = deque(maxlen=100)\n",
    "    scores = []\n",
    "    ep_times = []\n",
    "    for i_episode in range(1, n_episodes+1):\n",
    "        t_start = time.time()\n",
    "        env_info = env.reset(train_mode=True)[brain_name]\n",
    "        states = env_info.vector_observations\n",
    "        state = states[0]\n",
    "        score = 0        \n",
    "        for t in range(max_t):\n",
    "            if agent.is_warming_up():\n",
    "                action = sample_action()\n",
    "            else:\n",
    "                action = agent.act(state, add_noise=True)\n",
    "            env_info = env.step(action)[brain_name]\n",
    "            next_states = env_info.vector_observations         # get next state (for each agent)\n",
    "            rewards = env_info.rewards                         # get reward (for each agent)\n",
    "            dones = env_info.local_done                        # see if episode finished\n",
    "            next_state, reward, done = next_states[0], rewards[0], dones[0]\n",
    "            agent.step(state, action, reward, next_state, done, train_every_steps=train_every_steps)\n",
    "            state = next_state\n",
    "            score += reward\n",
    "            if done:\n",
    "                break           \n",
    "        if train_every_steps==0:\n",
    "            agent.train(nr_iters=t//10)\n",
    "        scores_deque.append(score)\n",
    "        scores.append(score)\n",
    "        steps_deque.append(t)\n",
    "        t_end = time.time()\n",
    "        ep_time = t_end - t_start\n",
    "        ep_times.append(ep_time)\n",
    "        _cl1 = np.mean(agent.critic_1_losses)\n",
    "        _cl2 = np.mean(agent.critic_2_losses)\n",
    "        _al = np.mean(agent.actor_losses)\n",
    "        print('\\rEpisode {:>4}  Score/Avg: {:>4.1f}/{:>4.1f}  Steps: {:>4}  [μcL1/μcL2: {:>8.1e}/{:>8.1e} μaL: {:>8.1e}]  t:{:>4.1f}s    '.format(\n",
    "            i_episode, score, np.mean(scores_deque), t, _cl1,_cl2, _al, ep_time), end=\"\", flush=True)\n",
    "        if np.mean(scores_deque) > 30:\n",
    "            print(\"\\nEnvironment solved at episode {}!\".format(i_episode))\n",
    "            agent.save('ep_{}_solved'.format(i_episode))\n",
    "            break\n",
    "        if i_episode % 50 == 0:\n",
    "            mean_ep = np.mean(ep_times)\n",
    "            elapsed = i_episode * mean_ep\n",
    "            total = (n_episodes + 1) * mean_ep\n",
    "            left_time_hrs = (total - elapsed) / 3600            \n",
    "            print('\\rEpisode {:>4}  Score/Avg: {:>4.1f}/{:>4.1f}  AvStp: {:>4.0f}  [μcL1/μcL2: {:>8.1e}/{:>8.1e} μaL: {:>8.1e}]  t-left:{:>4.1f} h    '.format(\n",
    "                i_episode, score, np.mean(scores_deque), np.mean(steps_deque), _cl1,_cl2, _al, left_time_hrs))\n",
    "            print(\"  Loaded steps: {:>10}\".format(agent.step_counter))\n",
    "            print(\"  Train iters:  {:>10}\".format(agent.train_iters))\n",
    "            print(\"  Actor update: {:>10}\".format(agent.actor_updates))\n",
    "    return scores\n",
    "\n",
    "from workspace_utils import active_session\n",
    " \n",
    "with active_session():\n",
    "    train_every_steps=10\n",
    "    dev = torch.device(\"cuda:0\" if torch.cuda.is_available() else \"cpu\")\n",
    "    agent = Agent(a_size=_action_size, s_size=_state_size, dev=dev)\n",
    "    scores = training_loop(env=env, agent=agent, train_every_steps=train_every_steps)\n",
    "\n",
    "    fig = plt.figure()\n",
    "    ax = fig.add_subplot(111)\n",
    "    plt.plot(np.arange(1, len(scores)+1), scores)\n",
    "    plt.ylabel('Score')\n",
    "    plt.xlabel('Episode #')\n",
    "    plt.show()\n",
    "\n"
   ]
  },
  {
   "cell_type": "code",
   "execution_count": null,
   "metadata": {
    "scrolled": false
   },
   "outputs": [],
   "source": [
    "print(\"Critic w-means: {}\".format([x.detach().cpu().numpy().mean() for x in agent.critic_online_1.parameters()]))\n",
    "print(\"Actor w-means: {}\".format([x.detach().cpu().numpy().mean() for x in agent.actor_online.parameters()]))"
   ]
  },
  {
   "cell_type": "code",
   "execution_count": null,
   "metadata": {
    "scrolled": false
   },
   "outputs": [],
   "source": [
    "len(agent.actor_losses)"
   ]
  },
  {
   "cell_type": "code",
   "execution_count": null,
   "metadata": {},
   "outputs": [],
   "source": [
    "len(agent.critic_1_losses)"
   ]
  },
  {
   "cell_type": "code",
   "execution_count": null,
   "metadata": {},
   "outputs": [],
   "source": [
    "len(agent.memory)"
   ]
  },
  {
   "cell_type": "code",
   "execution_count": null,
   "metadata": {},
   "outputs": [],
   "source": []
  }
 ],
 "metadata": {
  "kernelspec": {
   "display_name": "Python 3",
   "language": "python",
   "name": "python3"
  },
  "language_info": {
   "codemirror_mode": {
    "name": "ipython",
    "version": 3
   },
   "file_extension": ".py",
   "mimetype": "text/x-python",
   "name": "python",
   "nbconvert_exporter": "python",
   "pygments_lexer": "ipython3",
   "version": "3.6.3"
  }
 },
 "nbformat": 4,
 "nbformat_minor": 2
}
